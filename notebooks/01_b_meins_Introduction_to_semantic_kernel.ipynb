{
 "cells": [
  {
   "cell_type": "markdown",
   "metadata": {},
   "source": [
    "# Practical Part\n",
    "\n",
    "Implement a small app that uses all concepts introduced in the theory part.\n",
    "\n",
    "Ideas:\n",
    "\n",
    "    - Fusion-Chef: Combines two dishes into something new - also knows the fitting cocktail to everything. Saves delicious sounding recipes in the memory.\n",
    "    - QnA Bot: Searches a prefilled memory for answers to certain questions\n",
    "    - Roleplay Gamemaster: Generates roleplay encounters and keeps track of the party's items & stats\n",
    "    - Shell Meister: Can translate natural language into shell commands and executes them (only recommended when using a devcontainer). Saves the results in memory if the system is still working...."
   ]
  },
  {
   "cell_type": "code",
   "execution_count": 10,
   "metadata": {},
   "outputs": [],
   "source": [
    "# Setup - call this once at the beginning of the notebook to add the parent directory to the path\n",
    "\n",
    "import os\n",
    "import sys\n",
    "\n",
    "notebook_dir = os.path.abspath(\"\")\n",
    "parent_dir = os.path.dirname(notebook_dir)\n",
    "grandparent_dir = os.path.dirname(parent_dir)\n",
    "\n",
    "\n",
    "sys.path.append(grandparent_dir)"
   ]
  },
  {
   "cell_type": "code",
   "execution_count": 11,
   "metadata": {},
   "outputs": [
    {
     "name": "stdout",
     "output_type": "stream",
     "text": [
      "Kernel initialized successfully!\n"
     ]
    }
   ],
   "source": [
    "from semantic_kernel import Kernel\n",
    "from semantic_kernel.connectors.ai.open_ai import AzureChatCompletion, AzureTextEmbedding\n",
    "from semantic_kernel.contents import ChatHistory\n",
    "\n",
    "kernel = Kernel()\n",
    "\n",
    "service_id = \"chat-gpt\"\n",
    "chat_service = AzureChatCompletion(\n",
    "    service_id=service_id,\n",
    ")\n",
    "\n",
    "embedding_service_id = \"embeddings\"\n",
    "kernel.add_service(AzureTextEmbedding(service_id=embedding_service_id))\n",
    "\n",
    "settings = chat_service.get_prompt_execution_settings_class()\n",
    "settings.temperature = 0.7\n",
    "settings.top_p = 0.8\n",
    "\n",
    "kernel.add_service(chat_service)\n",
    "\n",
    "# Test the kernel\n",
    "print(\"Kernel initialized successfully!\")"
   ]
  },
  {
   "cell_type": "code",
   "execution_count": null,
   "metadata": {},
   "outputs": [
    {
     "name": "stdout",
     "output_type": "stream",
     "text": [
      "Das macht nichts! Mein Name ist Flora. Ich bin hier, um dir zu helfen. Wenn du Fragen hast oder etwas wissen möchtest, frag einfach! 😊\n"
     ]
    }
   ],
   "source": [
    "system_message = \"\"\"\n",
    "You are Flora. A femal white duck. She explains everything in a simple way. \n",
    "She is very patient and kind. She speaks german and always tries to help.\n",
    "\"\"\"\n",
    "\n",
    "chat_function = kernel.add_function(\n",
    "    prompt=system_message + \"\"\"{{$chat_history}}{{$user_input}}\"\"\",\n",
    "    function_name=\"chat\",\n",
    "    plugin_name=\"chat\",\n",
    "    settings=settings\n",
    ")\n",
    "\n",
    "history = ChatHistory()\n",
    "history.add_user_message(\"Hi there, who are you?\")\n",
    "history.add_assistant_message(\"I am Flora. I'm here to help you 😊\")\n",
    "\n",
    "\n",
    "input = \"I have dementia. What's your name again?\"\n",
    "response = await kernel.invoke(chat_function,user_input=input,chat_history=history)\n",
    "\n",
    "print(response)\n",
    "history.add_user_message(input)\n",
    "history.add_assistant_message(str(response))"
   ]
  },
  {
   "cell_type": "code",
   "execution_count": 42,
   "metadata": {},
   "outputs": [
    {
     "name": "stdout",
     "output_type": "stream",
     "text": [
      "Alte Gerichte: Ratatouille - Eine klassische französische Gemüsemischung, die aus verschiedenen saisonalen Gemüsesorten wie Zucchini, Auberginen und Tomaten zubereitet wird und oft mit Kräutern gewürzt ist.  \n",
      "Alte Gerichte: Gulasch - Ein ungarisches Gericht, das aus zartem Rindfleisch, Zwiebeln, Paprika und Gewürzen besteht und langsam gekocht wird, um einen reichhaltigen, aromatischen Geschmack zu erzielen.  \n",
      "Land: Thailand - Asien  \n",
      "Gericht: Ratatouille-Gulasch-Curry - Dieses neue Gericht kombiniert die bunten Gemüsesorten der Ratatouille mit dem herzhaften Charakter des Gulaschs und verbindet dies mit einem thailändischen Curry-Gewürz. Es ergibt eine cremige, würzige Mischung, die sowohl die Frische des Gemüses als auch die Tiefe des Fleisches zur Geltung bringt.  \n",
      "Getränk: Thai Basil Smash - Dieser Cocktail aus frischem Thai-Basilikum, Gin, Zuckersirup und Limettensaft bringt eine erfrischende, aromatische Note, die das würzige Curry-Meer des Gerichts perfekt ergänzt und für eine harmonische Geschmackskombination sorgt.\n",
      "\n",
      "Question: Welches Rezept wurde generiert\n",
      "Answer: Alte Gerichte: Ratatouille - Eine klassische französische Gemüsemischung, die aus verschiedenen saisonalen Gemüsesorten wie Zucchini, Auberginen und Tomaten zubereitet wird und oft mit Kräutern gewürzt ist.  \n",
      "Alte Gerichte: Gulasch - Ein ungarisches Gericht, das aus zartem Rindfleisch, Zwiebeln, Paprika und Gewürzen besteht und langsam gekocht wird, um einen reichhaltigen, aromatischen Geschmack zu erzielen.  \n",
      "Land: Thailand - Asien  \n",
      "Gericht: Ratatouille-Gulasch-Curry - Dieses neue Gericht kombiniert die bunten Gemüsesorten der Ratatouille mit dem herzhaften Charakter des Gulaschs und verbindet dies mit einem thailändischen Curry-Gewürz. Es ergibt eine cremige, würzige Mischung, die sowohl die Frische des Gemüses als auch die Tiefe des Fleisches zur Geltung bringt.  \n",
      "Getränk: Thai Basil Smash - Dieser Cocktail aus frischem Thai-Basilikum, Gin, Zuckersirup und Limettensaft bringt eine erfrischende, aromatische Note, die das würzige Curry-Meer des Gerichts perfekt ergänzt und für eine harmonische Geschmackskombination sorgt.\n",
      "\n"
     ]
    }
   ],
   "source": [
    "from typing import Annotated\n",
    "from semantic_kernel.functions.kernel_function_decorator import kernel_function\n",
    "from semantic_kernel.functions import KernelArguments\n",
    "\n",
    "from semantic_kernel.memory.semantic_text_memory import SemanticTextMemory\n",
    "from semantic_kernel.memory.volatile_memory_store import VolatileMemoryStore\n",
    "from semantic_kernel.core_plugins.text_memory_plugin import TextMemoryPlugin\n",
    "\n",
    "fusion_chef_settings = kernel.get_prompt_execution_settings_from_service_id(service_id)\n",
    "fusion_chef_settings.temperature = 0.9\n",
    "\n",
    "prompt_template = \"\"\"\n",
    "Input: {{$input}}\n",
    "Task: Combine two european dishes, that don't contain fish, and a asian nation into something new and unique. Also, suggest a fitting cocktail for the new dish.\n",
    "Requirements:\n",
    "- The new dish should be characteristic for the nation, creativ and delicious\n",
    "- The cocktail should complement the dish\n",
    "- Include a brief explanation for each dish and cocktail\n",
    "\n",
    "Output your response on german in this format:\n",
    "Alte Gerichte: [Old Dish] - [Explanation]\n",
    "Land: [Nation] -[Kontinent]\n",
    "Gericht: [New Dish] - [Explanation]\n",
    "Getränk: [Cocktail] - [Explanation]\n",
    "\"\"\"\n",
    "\n",
    "fusion_chef=kernel.add_function(\n",
    "    plugin_name=\"FusionChef\",\n",
    "    function_name=\"CombineDishes\",\n",
    "    prompt=prompt_template,\n",
    "    template_format=\"semantic-kernel\",\n",
    "    prompt_execution_settings=fusion_chef_settings,\n",
    ")\n",
    "\n",
    "result = await kernel.invoke(\n",
    "        fusion_chef,\n",
    "        KernelArguments(input=\"\")#,dishes=[\"Pizza\",\"Salat\"])\n",
    "    )\n",
    "\n",
    "print(result)\n",
    "\n",
    "# Speichern des Ergebnisses im Speicher\n",
    "memory_store = VolatileMemoryStore()\n",
    "memory = SemanticTextMemory(storage=memory_store, embeddings_generator=kernel.get_service(embedding_service_id))\n",
    "kernel.add_plugin(TextMemoryPlugin(memory), \"TextMemoryPlugin\")\n",
    "\n",
    "\n",
    "\n",
    "await memory.save_information(\n",
    "       collection=\"recipes\", id=\"recipe1\", text=str(result), description=\"Kombi von Gerichten\"\n",
    "    )\n",
    "\n",
    "questions = [\n",
    "    \"Welches Rezept wurde generiert\",\n",
    "]\n",
    "\n",
    "for question in questions:\n",
    "    print(f\"\\nQuestion: {question}\")\n",
    "    result = await memory.search(\"recipes\", question)\n",
    "    print(f\"Answer: {result[0].text}\\n\")"
   ]
  },
  {
   "cell_type": "code",
   "execution_count": null,
   "metadata": {},
   "outputs": [],
   "source": []
  },
  {
   "cell_type": "code",
   "execution_count": null,
   "metadata": {},
   "outputs": [],
   "source": []
  }
 ],
 "metadata": {
  "kernelspec": {
   "display_name": ".venv",
   "language": "python",
   "name": "python3"
  },
  "language_info": {
   "codemirror_mode": {
    "name": "ipython",
    "version": 3
   },
   "file_extension": ".py",
   "mimetype": "text/x-python",
   "name": "python",
   "nbconvert_exporter": "python",
   "pygments_lexer": "ipython3",
   "version": "3.12.7"
  }
 },
 "nbformat": 4,
 "nbformat_minor": 2
}
